{
 "cells": [
  {
   "cell_type": "code",
   "execution_count": 3,
   "metadata": {
    "collapsed": true
   },
   "outputs": [
    {
     "name": "stdout",
     "output_type": "stream",
     "text": [
      "gf 1.8055555555555554\n"
     ]
    }
   ],
   "source": [
    "from brian2 import *\n",
    "\n",
    "from gf_metric import compute_gamma_factor_for_lists\n",
    "\n",
    "spike_times_1 = 3 * [[]]\n",
    "spike_times_2 = 3 * [[]]\n",
    "\n",
    "for i in range(3):\n",
    "    spike_times_1[i] = np.sort(np.random.randint(100, size=(30,)))\n",
    "    spike_times_2[i] = np.sort(np.random.randint(100, size=(30,)))\n",
    "\n",
    "    assert spike_times_1[i][0] != spike_times_2[i][0]\n",
    "\n",
    "gf = compute_gamma_factor_for_lists(spike_times_1, spike_times_2, time=100*ms)\n",
    "print('gf', gf)"
   ]
  }
 ],
 "metadata": {
  "kernelspec": {
   "display_name": "Python 3",
   "language": "python",
   "name": "python3"
  },
  "language_info": {
   "codemirror_mode": {
    "name": "ipython",
    "version": 2
   },
   "file_extension": ".py",
   "mimetype": "text/x-python",
   "name": "python",
   "nbconvert_exporter": "python",
   "pygments_lexer": "ipython2",
   "version": "2.7.6"
  }
 },
 "nbformat": 4,
 "nbformat_minor": 0
}