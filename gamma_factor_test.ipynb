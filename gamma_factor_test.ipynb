{
 "cells": [
  {
   "cell_type": "code",
   "execution_count": 3,
   "metadata": {
    "collapsed": true
   },
   "outputs": [
    {
     "name": "stdout",
     "output_type": "stream",
     "text": [
      "num of spikes: 102\n",
      "gamma factor the same spike train: 0.0\n"
     ]
    }
   ],
   "source": [
    "from brian2 import *\n",
    "from gf_metric import *\n",
    "\n",
    "start_scope()\n",
    "tau = 1*ms\n",
    "\n",
    "# Parameters\n",
    "E_L = -65*mV\n",
    "R_m = 1*ohm\n",
    "eqs_LIF = '''\n",
    "dv/dt = (E_L - v + R_m * I)/tau : volt\n",
    "I : amp\n",
    "'''\n",
    "\n",
    "N = 3\n",
    "LIF_grp = NeuronGroup(N, eqs_LIF, threshold='v>30*mV', reset='v=E_L', method='euler')\n",
    "spikemon = SpikeMonitor(LIF_grp[:], 'v', record=True)\n",
    "\n",
    "LIF_grp.I = 100*mA\n",
    "\n",
    "time = 100*ms\n",
    "run(time)\n",
    "\n",
    "print('num of spikes:', spikemon.num_spikes)\n",
    "\n",
    "sut = compute_gamma_factor(spikemon, spikemon, time=time, delta=tau, rate_correction=True)\n",
    "print('gamma factor the same spike train:', sut)"
   ]
  }
 ],
 "metadata": {
  "kernelspec": {
   "display_name": "Python 3",
   "language": "python",
   "name": "python3"
  },
  "language_info": {
   "codemirror_mode": {
    "name": "ipython",
    "version": 2
   },
   "file_extension": ".py",
   "mimetype": "text/x-python",
   "name": "python",
   "nbconvert_exporter": "python",
   "pygments_lexer": "ipython2",
   "version": "2.7.6"
  }
 },
 "nbformat": 4,
 "nbformat_minor": 0
}