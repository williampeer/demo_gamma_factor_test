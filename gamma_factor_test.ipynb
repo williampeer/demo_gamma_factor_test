{
 "cells": [
  {
   "cell_type": "code",
   "execution_count": 3,
   "metadata": {
    "collapsed": true
   },
   "outputs": [
    {
     "name": "stderr",
     "output_type": "stream",
     "text": [
      "WARNING    \"E_L\" is an internal variable of group \"neurongroup\", but also exists in the run namespace with the value -65. * mvolt. The internal variable will be used. [brian2.groups.group.Group.resolve.resolution_conflict]\n"
     ]
    },
    {
     "name": "stdout",
     "output_type": "stream",
     "text": [
      "num of spikes: 204\n",
      "num of spikes2: 216\n",
      "gamma factor the same spike train: 1.0009070294784583\n"
     ]
    }
   ],
   "source": [
    "from brian2 import *\n",
    "from gf_metric import *\n",
    "\n",
    "start_scope()\n",
    "tau = 1*ms\n",
    "\n",
    "# Parameters\n",
    "R_m = 1*ohm\n",
    "eqs_LIF = '''\n",
    "dv/dt = (E_L - v + R_m * I)/tau : volt\n",
    "I : amp\n",
    "E_L : volt\n",
    "'''\n",
    "\n",
    "N = 6\n",
    "LIF_grp = NeuronGroup(N, eqs_LIF, threshold='v>30*mV', reset='v=E_L', method='euler')\n",
    "LIF_grp2 = NeuronGroup(N, eqs_LIF, threshold='v>30*mV', reset='v=E_L', method='euler')\n",
    "LIF_grp.E_L = -65*mV\n",
    "LIF_grp2.E_L = -55*mV\n",
    "\n",
    "spikemon = SpikeMonitor(LIF_grp[:], 'v', record=True)\n",
    "spikemon2 = SpikeMonitor(LIF_grp2[:], 'v', record=True)\n",
    "\n",
    "LIF_grp.I = 100*mA\n",
    "LIF_grp2.I = 90*mA\n",
    "\n",
    "time = 100*ms\n",
    "run(time)\n",
    "\n",
    "print('num of spikes:', spikemon.num_spikes)\n",
    "print('num of spikes2:', spikemon2.num_spikes)\n",
    "\n",
    "sut = compute_gamma_factor(spikemon, spikemon2, time=time, delta=tau, rate_correction=True)\n",
    "print('gamma factor the same spike train:', sut)"
   ]
  }
 ],
 "metadata": {
  "kernelspec": {
   "display_name": "Python 3",
   "language": "python",
   "name": "python3"
  },
  "language_info": {
   "codemirror_mode": {
    "name": "ipython",
    "version": 2
   },
   "file_extension": ".py",
   "mimetype": "text/x-python",
   "name": "python",
   "nbconvert_exporter": "python",
   "pygments_lexer": "ipython2",
   "version": "2.7.6"
  }
 },
 "nbformat": 4,
 "nbformat_minor": 0
}